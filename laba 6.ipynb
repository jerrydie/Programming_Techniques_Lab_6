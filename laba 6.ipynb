{
 "cells": [
  {
   "cell_type": "markdown",
   "metadata": {},
   "source": [
    "# Лабораторная работа № 6\n",
    "## Щеглова П.Н. Вариант 4\n",
    "Используя паттерн Adapter (адаптер), реализовать собственную структуру типа стек\n",
    "неограниченного размера, основанную на типе list из стандартной библиотеки.\n",
    "Обязательные методы: push, pop. Также необходимо реализовать собственный класс\n",
    "исключений для случая извлечения элемента из пустого стека."
   ]
  },
  {
   "cell_type": "code",
   "execution_count": 74,
   "metadata": {},
   "outputs": [],
   "source": [
    "class empty_poptop_error(Exception):\n",
    "# собственный класс исключений для случая извлечения элемента из пустого стека.\n",
    "    def __init__(self, message = \"stack index out of range\\n\"):\n",
    "        self.message = message\n",
    "    def __str__(self):\n",
    "        return self.message"
   ]
  },
  {
   "cell_type": "code",
   "execution_count": 75,
   "metadata": {},
   "outputs": [],
   "source": [
    "class Stack(list):\n",
    "    def Push(self, item):\n",
    "        # Добавить элемент в конец\n",
    "        # self - объект, в который добавить\n",
    "        # elem - добавляемый элемент\n",
    "        return self.append(item)\n",
    "    \n",
    "    def isEmpty(self):\n",
    "        # Проверить на нулевой размер\n",
    "        # self - проверяемый объект\n",
    "        return len(self) == 0\n",
    "    \n",
    "    def Pop(self):\n",
    "        # Удалить элемент из конца\n",
    "        # self - объект, из которого удалить\n",
    "        # в случае попытки удаления из пустого стэка - вызов собственного класса исключений\n",
    "        if len(self) == 0:\n",
    "            raise empty_poptop_error()\n",
    "        return self.pop()\n",
    "    \n",
    "    def Top(self):\n",
    "        # Получить элемент из конца\n",
    "        # self - объект, из которого получить\n",
    "        # в случае попытки получения из пустого стэка - вызов собственного класса исключений\n",
    "        if len(self) == 0:\n",
    "            raise empty_poptop_error()\n",
    "        return self[-1]"
   ]
  },
  {
   "cell_type": "code",
   "execution_count": 76,
   "metadata": {},
   "outputs": [
    {
     "name": "stdout",
     "output_type": "stream",
     "text": [
      "[5]\n",
      "[5, 6]\n",
      "[5]\n",
      "5\n",
      "[5]\n",
      "False\n"
     ]
    }
   ],
   "source": [
    "adapt = Stack()\n",
    "adapt.Push(5)\n",
    "print(adapt) # [5]\n",
    "adapt.Push(6)\n",
    "print(adapt) # [5, 6]\n",
    "adapt.Pop()\n",
    "print(adapt) # [5]\n",
    "print(adapt.Top()) # 5\n",
    "print(adapt) # [5]\n",
    "print(adapt.isEmpty()) # False"
   ]
  },
  {
   "cell_type": "code",
   "execution_count": 77,
   "metadata": {},
   "outputs": [
    {
     "name": "stdout",
     "output_type": "stream",
     "text": [
      "True\n"
     ]
    },
    {
     "ename": "empty_poptop_error",
     "evalue": "stack index out of range\n",
     "output_type": "error",
     "traceback": [
      "\u001b[1;31m---------------------------------------------------------------------------\u001b[0m",
      "\u001b[1;31mempty_poptop_error\u001b[0m                        Traceback (most recent call last)",
      "\u001b[1;32m<ipython-input-77-5819b3272492>\u001b[0m in \u001b[0;36m<module>\u001b[1;34m\u001b[0m\n\u001b[0;32m      1\u001b[0m \u001b[0madapt\u001b[0m\u001b[1;33m.\u001b[0m\u001b[0mPop\u001b[0m\u001b[1;33m(\u001b[0m\u001b[1;33m)\u001b[0m \u001b[1;31m# []\u001b[0m\u001b[1;33m\u001b[0m\u001b[1;33m\u001b[0m\u001b[0m\n\u001b[0;32m      2\u001b[0m \u001b[0mprint\u001b[0m\u001b[1;33m(\u001b[0m\u001b[0madapt\u001b[0m\u001b[1;33m.\u001b[0m\u001b[0misEmpty\u001b[0m\u001b[1;33m(\u001b[0m\u001b[1;33m)\u001b[0m\u001b[1;33m)\u001b[0m \u001b[1;31m# True\u001b[0m\u001b[1;33m\u001b[0m\u001b[1;33m\u001b[0m\u001b[0m\n\u001b[1;32m----> 3\u001b[1;33m \u001b[0madapt\u001b[0m\u001b[1;33m.\u001b[0m\u001b[0mTop\u001b[0m\u001b[1;33m(\u001b[0m\u001b[1;33m)\u001b[0m \u001b[1;31m# empty_poptop_error\u001b[0m\u001b[1;33m\u001b[0m\u001b[1;33m\u001b[0m\u001b[0m\n\u001b[0m",
      "\u001b[1;32m<ipython-input-75-4be69d75c7ec>\u001b[0m in \u001b[0;36mTop\u001b[1;34m(self)\u001b[0m\n\u001b[0;32m     24\u001b[0m         \u001b[1;31m# в случае попытки получения из пустого стэка - вызов собственного класса исключений\u001b[0m\u001b[1;33m\u001b[0m\u001b[1;33m\u001b[0m\u001b[1;33m\u001b[0m\u001b[0m\n\u001b[0;32m     25\u001b[0m         \u001b[1;32mif\u001b[0m \u001b[0mlen\u001b[0m\u001b[1;33m(\u001b[0m\u001b[0mself\u001b[0m\u001b[1;33m)\u001b[0m \u001b[1;33m==\u001b[0m \u001b[1;36m0\u001b[0m\u001b[1;33m:\u001b[0m\u001b[1;33m\u001b[0m\u001b[1;33m\u001b[0m\u001b[0m\n\u001b[1;32m---> 26\u001b[1;33m             \u001b[1;32mraise\u001b[0m \u001b[0mempty_poptop_error\u001b[0m\u001b[1;33m(\u001b[0m\u001b[1;33m)\u001b[0m\u001b[1;33m\u001b[0m\u001b[1;33m\u001b[0m\u001b[0m\n\u001b[0m\u001b[0;32m     27\u001b[0m         \u001b[1;32mreturn\u001b[0m \u001b[0mself\u001b[0m\u001b[1;33m[\u001b[0m\u001b[1;33m-\u001b[0m\u001b[1;36m1\u001b[0m\u001b[1;33m]\u001b[0m\u001b[1;33m\u001b[0m\u001b[1;33m\u001b[0m\u001b[0m\n",
      "\u001b[1;31mempty_poptop_error\u001b[0m: stack index out of range\n"
     ]
    }
   ],
   "source": [
    "adapt.Pop() # []\n",
    "print(adapt.isEmpty()) # True\n",
    "adapt.Top() # empty_poptop_error"
   ]
  },
  {
   "cell_type": "code",
   "execution_count": null,
   "metadata": {},
   "outputs": [],
   "source": []
  }
 ],
 "metadata": {
  "kernelspec": {
   "display_name": "Python 3",
   "language": "python",
   "name": "python3"
  },
  "language_info": {
   "codemirror_mode": {
    "name": "ipython",
    "version": 3
   },
   "file_extension": ".py",
   "mimetype": "text/x-python",
   "name": "python",
   "nbconvert_exporter": "python",
   "pygments_lexer": "ipython3",
   "version": "3.7.3"
  }
 },
 "nbformat": 4,
 "nbformat_minor": 2
}
